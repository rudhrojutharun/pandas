{
 "cells": [
  {
   "cell_type": "code",
   "execution_count": 1,
   "metadata": {},
   "outputs": [
    {
     "name": "stdout",
     "output_type": "stream",
     "text": [
      "hello world\n"
     ]
    }
   ],
   "source": [
    "import numpy as np\n",
    "import pandas as pd\n",
    "\n",
    "print(\"hello world\")"
   ]
  },
  {
   "cell_type": "markdown",
   "metadata": {},
   "source": [
    "Pandas\n",
    "Pandas is a powerful Python library for data manipulation and analysis. It provides easy-to-use data structures and functions to work with structured data like tabular, time series, or matrix data.\n",
    "\n",
    "Pandas primarily provides two data structures: Series and DataFrame.\n",
    "\n",
    "Series: A one-dimensional labeled array capable of holding any data type.\n",
    "\n",
    "DataFrame: A two-dimensional labeled data structure with columns of potentially different types."
   ]
  },
  {
   "cell_type": "markdown",
   "metadata": {},
   "source": [
    "Pandas - Series\n",
    "Series in pandas is a fundamental data structure that represents a one-dimensional array of indexed data. It can hold any type of data—integers, strings, floats, Python objects, etc. The Series object is built on top of the NumPy array and is very similar to it but with additional capabilities like handling missing data. The indices of a pandas Series are more flexible than those in a simple NumPy array."
   ]
  },
  {
   "cell_type": "code",
   "execution_count": 2,
   "metadata": {},
   "outputs": [
    {
     "name": "stdout",
     "output_type": "stream",
     "text": [
      "index : values\n",
      "0    1\n",
      "1    3\n",
      "2    5\n",
      "3    7\n",
      "4    9\n",
      "dtype: int64\n"
     ]
    }
   ],
   "source": [
    "# Creating a series using pandas\n",
    "\n",
    "s = pd.Series([1,3,5,7,9])\n",
    "print(\"index : values\")\n",
    "print(s)"
   ]
  },
  {
   "cell_type": "markdown",
   "metadata": {},
   "source": [
    "Key Attributes\n",
    "\n",
    "Values: The data in the Series.\n",
    "\n",
    "Index: The index (labels) of each data point."
   ]
  },
  {
   "cell_type": "markdown",
   "metadata": {},
   "source": [
    "**Common Methods of Series**"
   ]
  },
  {
   "cell_type": "markdown",
   "metadata": {},
   "source": [
    "# Descriptive Statistics"
   ]
  },
  {
   "cell_type": "markdown",
   "metadata": {},
   "source": [
    "s.describe(): Provides a quick summary of the data.\n",
    "\n",
    "This method gives a statistical summary of the Series, including count, mean, standard deviation, minimum, maximum, and quartile values."
   ]
  },
  {
   "cell_type": "code",
   "execution_count": 3,
   "metadata": {},
   "outputs": [
    {
     "name": "stdout",
     "output_type": "stream",
     "text": [
      "count    5.000000\n",
      "mean     5.000000\n",
      "std      3.162278\n",
      "min      1.000000\n",
      "25%      3.000000\n",
      "50%      5.000000\n",
      "75%      7.000000\n",
      "max      9.000000\n",
      "dtype: float64\n"
     ]
    }
   ],
   "source": [
    "print(s.describe())"
   ]
  },
  {
   "cell_type": "markdown",
   "metadata": {},
   "source": [
    "s.mean(): Computes the mean of the data.\n",
    "s.std(): Computes the standard deviation.\n",
    "s.min() and s.max(): Computes the minimum and maximum values"
   ]
  },
  {
   "cell_type": "code",
   "execution_count": 4,
   "metadata": {},
   "outputs": [
    {
     "name": "stdout",
     "output_type": "stream",
     "text": [
      "5.0\n",
      "3.1622776601683795\n",
      "1\n",
      "9\n"
     ]
    }
   ],
   "source": [
    "print(s.mean())\n",
    "print(s.std())\n",
    "print(s.min())\n",
    "print(s.max())\n"
   ]
  },
  {
   "cell_type": "markdown",
   "metadata": {},
   "source": [
    "**Data Manipulation**"
   ]
  },
  {
   "cell_type": "markdown",
   "metadata": {},
   "source": [
    "s.map(func): Applies a function to each element in the Series.\n",
    "Lambda here is  a lambda function is a small anonymous function, meaning it doesn't have a name. They are often used for short, simple operations that don't require a full function definition"
   ]
  },
  {
   "cell_type": "code",
   "execution_count": 5,
   "metadata": {},
   "outputs": [
    {
     "name": "stdout",
     "output_type": "stream",
     "text": [
      "0     3\n",
      "1     9\n",
      "2    15\n",
      "3    21\n",
      "4    27\n",
      "dtype: int64\n"
     ]
    }
   ],
   "source": [
    "# Mapping function to triple the values\n",
    "# \n",
    "tripled = s.map(lambda x : x*3)\n",
    "print(tripled)"
   ]
  },
  {
   "cell_type": "markdown",
   "metadata": {},
   "source": [
    "s.apply(func) - Similar to map but more flexible(Can be used to Data frames as well where as map is only for series)"
   ]
  },
  {
   "cell_type": "code",
   "execution_count": 6,
   "metadata": {},
   "outputs": [
    {
     "name": "stdout",
     "output_type": "stream",
     "text": [
      "0    1.000000\n",
      "1    1.732051\n",
      "2    2.236068\n",
      "3    2.645751\n",
      "4    3.000000\n",
      "dtype: float64\n"
     ]
    }
   ],
   "source": [
    "#applying a function to calculatesquare root \n",
    "square_root_s = s.apply(lambda x: x**0.5)\n",
    "print(square_root_s)"
   ]
  },
  {
   "cell_type": "markdown",
   "metadata": {},
   "source": [
    "s.sort_values(): Sorts the Series.\n",
    " The sort_values() method sorts the values in ascending order and retains the original indices. Here's what the output would look like:"
   ]
  },
  {
   "cell_type": "code",
   "execution_count": 10,
   "metadata": {},
   "outputs": [
    {
     "name": "stdout",
     "output_type": "stream",
     "text": [
      "0    1\n",
      "2    2\n",
      "1    3\n",
      "3    4\n",
      "4    5\n",
      "dtype: int64\n"
     ]
    }
   ],
   "source": [
    "s1 = pd.Series([1,3,2,4,5])\n",
    "sorted_s1 = s1.sort_values()\n",
    "print(sorted_s1)"
   ]
  },
  {
   "cell_type": "markdown",
   "metadata": {},
   "source": [
    "s.drop(labels): Drops specified labels from the Series."
   ]
  },
  {
   "cell_type": "code",
   "execution_count": 12,
   "metadata": {},
   "outputs": [
    {
     "name": "stdout",
     "output_type": "stream",
     "text": [
      "0    1\n",
      "2    5\n",
      "3    7\n",
      "4    9\n",
      "dtype: int64\n"
     ]
    }
   ],
   "source": [
    "# dropping the required element   = var.drop(indexof_element, inplace=false[by default])\n",
    "# inplace-true modifies the current variable\n",
    "#print(s)\n",
    "#s.drop(2, inplace=True)\n",
    "#print(s)   - try these and you will know more about inplace parameter.\n",
    "dropped_s1 = s.drop(1)\n",
    "print(dropped_s1)"
   ]
  },
  {
   "cell_type": "markdown",
   "metadata": {},
   "source": [
    "**Handling Missing Data**"
   ]
  },
  {
   "cell_type": "markdown",
   "metadata": {},
   "source": [
    "var.isnull()- checks for missing values returns a series of booleans"
   ]
  },
  {
   "cell_type": "code",
   "execution_count": 13,
   "metadata": {},
   "outputs": [
    {
     "name": "stdout",
     "output_type": "stream",
     "text": [
      "0    1\n",
      "1    3\n",
      "2    5\n",
      "3    7\n",
      "4    9\n",
      "dtype: int64\n",
      "0    False\n",
      "1    False\n",
      "2    False\n",
      "3    False\n",
      "4    False\n",
      "dtype: bool\n"
     ]
    }
   ],
   "source": [
    "#checking for missing values - if a particular value is missing then it returns True\n",
    "print(s)\n",
    "print(s.isnull())"
   ]
  },
  {
   "cell_type": "markdown",
   "metadata": {},
   "source": [
    "var.notnull() - opposite of isnull, checks whether a value is not null, if not null then returns True"
   ]
  },
  {
   "cell_type": "code",
   "execution_count": 14,
   "metadata": {},
   "outputs": [
    {
     "name": "stdout",
     "output_type": "stream",
     "text": [
      "0    True\n",
      "1    True\n",
      "2    True\n",
      "3    True\n",
      "4    True\n",
      "dtype: bool\n"
     ]
    }
   ],
   "source": [
    "#checking for non-null values\n",
    "print(s.notnull())"
   ]
  },
  {
   "cell_type": "markdown",
   "metadata": {},
   "source": [
    "var.fillna(value) - fills missing  values with a mentioned value or parameter"
   ]
  },
  {
   "cell_type": "code",
   "execution_count": 18,
   "metadata": {},
   "outputs": [
    {
     "name": "stdout",
     "output_type": "stream",
     "text": [
      "0    1.0\n",
      "1    2.0\n",
      "2    NaN\n",
      "3    4.0\n",
      "4    NaN\n",
      "dtype: float64\n",
      "0    1.0\n",
      "1    2.0\n",
      "2    6.0\n",
      "3    4.0\n",
      "4    6.0\n",
      "dtype: float64\n"
     ]
    }
   ],
   "source": [
    "#creating a series with missing values\n",
    "s1_missing_values = pd.Series([1, 2, np.nan, 4, np.nan])\n",
    "print(s1_missing_values)\n",
    "filled_s1 = s1_missing_values.fillna(6) # filled missing value [Nan] with 6 \n",
    "print(filled_s1)"
   ]
  },
  {
   "cell_type": "markdown",
   "metadata": {},
   "source": [
    "**var.dropna() - drops all rows that contain missing values**"
   ]
  },
  {
   "cell_type": "code",
   "execution_count": 19,
   "metadata": {},
   "outputs": [
    {
     "name": "stdout",
     "output_type": "stream",
     "text": [
      "0    1.0\n",
      "1    2.0\n",
      "3    4.0\n",
      "dtype: float64\n"
     ]
    }
   ],
   "source": [
    "dropped_missing = s1_missing_values.dropna()\n",
    "print(dropped_missing)"
   ]
  }
 ],
 "metadata": {
  "kernelspec": {
   "display_name": "Python 3",
   "language": "python",
   "name": "python3"
  },
  "language_info": {
   "codemirror_mode": {
    "name": "ipython",
    "version": 3
   },
   "file_extension": ".py",
   "mimetype": "text/x-python",
   "name": "python",
   "nbconvert_exporter": "python",
   "pygments_lexer": "ipython3",
   "version": "3.13.0"
  }
 },
 "nbformat": 4,
 "nbformat_minor": 2
}
